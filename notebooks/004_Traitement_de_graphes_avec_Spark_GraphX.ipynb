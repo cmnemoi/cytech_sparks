{
 "cells": [
  {
   "cell_type": "markdown",
   "metadata": {},
   "source": [
    "# Traitement de données graphes avec Spark GraphX\n",
    "\n",
    "Dans ce notebook, nous allons utiliser Spark GraphX pour récupérer des information sur le graphe suivant, représentant un réseau social fictif : \n",
    "\n",
    "![Graphe](../images/graph.png)"
   ]
  },
  {
   "cell_type": "code",
   "execution_count": null,
   "metadata": {},
   "outputs": [],
   "source": [
    "// Notebook startup\n",
    "print(\"Hello, World!\")"
   ]
  }
 ],
 "metadata": {
  "language_info": {
   "name": "python"
  }
 },
 "nbformat": 4,
 "nbformat_minor": 2
}
