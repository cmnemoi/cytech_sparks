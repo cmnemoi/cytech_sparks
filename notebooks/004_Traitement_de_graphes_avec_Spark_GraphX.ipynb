{
 "cells": [
  {
   "cell_type": "markdown",
   "metadata": {},
   "source": [
    "# Traitement de données graphes avec Spark GraphX\n",
    "\n",
    "Dans ce notebook, nous allons utiliser Spark GraphX pour récupérer des information sur le graphe suivant, représentant un réseau social fictif : \n",
    "\n",
    "![Graphe](../images/graph.png)"
   ]
  },
  {
   "cell_type": "markdown",
   "metadata": {},
   "source": [
    "# Démarrage du notebook et importation des librairies nécessaires"
   ]
  },
  {
   "cell_type": "code",
   "execution_count": 1,
   "metadata": {},
   "outputs": [
    {
     "data": {
      "text/plain": [
       "Intitializing Scala interpreter ..."
      ]
     },
     "metadata": {},
     "output_type": "display_data"
    },
    {
     "data": {
      "text/plain": [
       "Spark Web UI available at http://3c99054b149a:4042\n",
       "SparkContext available as 'sc' (version = 3.5.0, master = local[*], app id = local-1704581855162)\n",
       "SparkSession available as 'spark'\n"
      ]
     },
     "metadata": {},
     "output_type": "display_data"
    },
    {
     "name": "stdout",
     "output_type": "stream",
     "text": [
      "Hello, World from Scala kernel!"
     ]
    }
   ],
   "source": [
    "print(\"Hello, World from Scala kernel!\")"
   ]
  },
  {
   "cell_type": "code",
   "execution_count": 2,
   "metadata": {},
   "outputs": [
    {
     "data": {
      "text/plain": [
       "import org.apache.spark._\n",
       "import org.apache.spark.rdd.RDD\n",
       "import org.apache.spark.util.IntParam\n",
       "import org.apache.spark.graphx._\n",
       "import org.apache.spark.graphx.util.GraphGenerators\n"
      ]
     },
     "execution_count": 2,
     "metadata": {},
     "output_type": "execute_result"
    }
   ],
   "source": [
    "import org.apache.spark._;\n",
    "import org.apache.spark.rdd.RDD;\n",
    "import org.apache.spark.util.IntParam;\n",
    "import org.apache.spark.graphx._;\n",
    "import org.apache.spark.graphx.util.GraphGenerators;"
   ]
  },
  {
   "cell_type": "markdown",
   "metadata": {},
   "source": [
    "# Création du graphe"
   ]
  },
  {
   "cell_type": "markdown",
   "metadata": {},
   "source": [
    "On créé d'abord les noeuds et les arêtes, que l'on transforme ensuite en RDDs pour qu'ils soient utilisables par Spark GraphX :"
   ]
  },
  {
   "cell_type": "code",
   "execution_count": 4,
   "metadata": {},
   "outputs": [
    {
     "data": {
      "text/plain": [
       "nodes: org.apache.spark.rdd.RDD[(Long, (String, Int))] = ParallelCollectionRDD[0] at parallelize at <console>:33\n",
       "edges: org.apache.spark.rdd.RDD[org.apache.spark.graphx.Edge[String]] = ParallelCollectionRDD[1] at parallelize at <console>:40\n"
      ]
     },
     "execution_count": 4,
     "metadata": {},
     "output_type": "execute_result"
    }
   ],
   "source": [
    "val nodes = sc.parallelize(\n",
    "    Array(\n",
    "        (1L, (\"Alia\", 28)), (2L, (\"Bechir\", 27)), (3L, (\"Chiheb\", 65)),\n",
    "        (4L, (\"Delia\", 42)), (5L, (\"Emir\", 35)), (6L, (\"Fawzi\", 50))\n",
    "    )\n",
    ")\n",
    "val edges = sc.parallelize(\n",
    "    Array(\n",
    "        Edge(2,1,\"follows\"), Edge(4,1,\"follows\"), Edge(2,4,\"follows\"), Edge(3,2,\"follows\"),\n",
    "        Edge(5,2,\"follows\"), Edge(5,3,\"follows\"), Edge(3,6,\"follows\"), Edge(6,5,\"follows\")\n",
    "    )\n",
    ")"
   ]
  },
  {
   "cell_type": "markdown",
   "metadata": {},
   "source": [
    "On peut ensuite créer le graphe à partir des RDDs :"
   ]
  },
  {
   "cell_type": "code",
   "execution_count": 5,
   "metadata": {},
   "outputs": [
    {
     "data": {
      "text/plain": [
       "graph: org.apache.spark.graphx.Graph[(String, Int),String] = org.apache.spark.graphx.impl.GraphImpl@742bf6bc\n"
      ]
     },
     "execution_count": 5,
     "metadata": {},
     "output_type": "execute_result"
    }
   ],
   "source": [
    "val graph = Graph(nodes, edges)"
   ]
  },
  {
   "cell_type": "markdown",
   "metadata": {},
   "source": [
    "# Exploration des données : exercices"
   ]
  },
  {
   "cell_type": "markdown",
   "metadata": {},
   "source": [
    "Question 1 : Quel est le nombre d'utilisateurs du réseau social ?"
   ]
  },
  {
   "cell_type": "code",
   "execution_count": 51,
   "metadata": {},
   "outputs": [
    {
     "name": "stdout",
     "output_type": "stream",
     "text": [
      "Il y a 6 utilisateurs dans ce réseau social.\n"
     ]
    }
   ],
   "source": [
    "println(\"Il y a \" + graph.numVertices + \" utilisateurs dans ce réseau social.\")"
   ]
  },
  {
   "cell_type": "markdown",
   "metadata": {},
   "source": [
    "Question 2 : Afficher tous les utlisateurs du réseau social (nom et âge)."
   ]
  },
  {
   "cell_type": "code",
   "execution_count": 56,
   "metadata": {},
   "outputs": [
    {
     "name": "stdout",
     "output_type": "stream",
     "text": [
      "Alia : 28 ans\n",
      "Bechir : 27 ans\n",
      "Chiheb : 65 ans\n",
      "Delia : 42 ans\n",
      "Emir : 35 ans\n",
      "Fawzi : 50 ans\n"
     ]
    }
   ],
   "source": [
    "graph.vertices.collect.foreach { case (id, (name, age)) => println(s\"$name : $age ans\")}"
   ]
  },
  {
   "cell_type": "markdown",
   "metadata": {},
   "source": [
    "Question 3 : Quel est le nombre total d'abonnés pour chaque utilisateur?"
   ]
  },
  {
   "cell_type": "code",
   "execution_count": 83,
   "metadata": {},
   "outputs": [
    {
     "name": "stdout",
     "output_type": "stream",
     "text": [
      "Alia a 2 abonnés\n",
      "Bechir a 2 abonnés\n",
      "Chiheb a 1 abonnés\n",
      "Delia a 1 abonnés\n",
      "Emir a 1 abonnés\n",
      "Fawzi a 1 abonnés\n"
     ]
    },
    {
     "data": {
      "text/plain": [
       "numberOfFollowersPerUser: org.apache.spark.graphx.VertexRDD[Int] = VertexRDDImpl[111] at RDD at VertexRDD.scala:57\n"
      ]
     },
     "execution_count": 83,
     "metadata": {},
     "output_type": "execute_result"
    }
   ],
   "source": [
    "// Quel est le nombre total d'abonnés pour chaque utilisateur? (afficher le nom de l'utilisateur et le nombre d'abonnés)\n",
    "\n",
    "val numberOfFollowersPerUser = graph.inDegrees\n",
    "\n",
    "graph.vertices.map { case (id, (name, age)) => (id, name) }.join(numberOfFollowersPerUser).map { case (id, (name, count)) => (name, count) }.collect.foreach { case (name, count) => println(s\"$name a $count abonnés\") }"
   ]
  },
  {
   "cell_type": "markdown",
   "metadata": {},
   "source": [
    "Question 4 : Afficher tous les \"follows\" du réseau social"
   ]
  },
  {
   "cell_type": "code",
   "execution_count": 70,
   "metadata": {},
   "outputs": [
    {
     "name": "stdout",
     "output_type": "stream",
     "text": [
      "Bechir follows Alia\n",
      "Delia follows Alia\n",
      "Bechir follows Delia\n",
      "Chiheb follows Bechir\n",
      "Emir follows Bechir\n",
      "Emir follows Chiheb\n",
      "Chiheb follows Fawzi\n",
      "Fawzi follows Emir\n"
     ]
    },
    {
     "data": {
      "text/plain": [
       "follows: Array[org.apache.spark.graphx.Edge[String]] = Array(Edge(2,1,follows), Edge(4,1,follows), Edge(2,4,follows), Edge(3,2,follows), Edge(5,2,follows), Edge(5,3,follows), Edge(3,6,follows), Edge(6,5,follows))\n"
      ]
     },
     "execution_count": 70,
     "metadata": {},
     "output_type": "execute_result"
    }
   ],
   "source": [
    "val follows = graph.edges.filter { case Edge(src, dst, prop) => prop == \"follows\" }.collect()\n",
    "\n",
    "follows.foreach { case Edge(src, dst, prop) => println(s\"${graph.vertices.filter { case (id, (name, age)) => id == src }.first._2._1} follows ${graph.vertices.filter { case (id, (name, age)) => id == dst }.first._2._1}\") }"
   ]
  },
  {
   "cell_type": "markdown",
   "metadata": {},
   "source": [
    "Question 5 : Quels sont les utilisateurs qui suivent Alia (id 1) ?"
   ]
  },
  {
   "cell_type": "code",
   "execution_count": 73,
   "metadata": {},
   "outputs": [
    {
     "name": "stdout",
     "output_type": "stream",
     "text": [
      "Les utilisateurs qui suivent Alia sont Bechir, Delia\n"
     ]
    },
    {
     "data": {
      "text/plain": [
       "aliaFollowersEdges: Array[org.apache.spark.graphx.VertexId] = Array(2, 4)\n",
       "aliaFollowers: Array[String] = Array(Bechir, Delia)\n"
      ]
     },
     "execution_count": 73,
     "metadata": {},
     "output_type": "execute_result"
    }
   ],
   "source": [
    "val aliaFollowersEdges = graph.edges.filter { case Edge(src, dst, prop) => dst == 1 }.map { case Edge(src, dst, prop) => src }.collect()\n",
    "val aliaFollowers = graph.vertices.filter { case (id, (name, age)) => aliaFollowersEdges.contains(id) }.map { case (id, (name, age)) => name }.collect()\n",
    "\n",
    "println(\"Les utilisateurs qui suivent Alia sont \" + aliaFollowers.mkString(\", \"))"
   ]
  }
 ],
 "metadata": {
  "kernelspec": {
   "display_name": "spylon-kernel",
   "language": "scala",
   "name": "spylon-kernel"
  },
  "language_info": {
   "codemirror_mode": "text/x-scala",
   "file_extension": ".scala",
   "help_links": [
    {
     "text": "MetaKernel Magics",
     "url": "https://metakernel.readthedocs.io/en/latest/source/README.html"
    }
   ],
   "mimetype": "text/x-scala",
   "name": "scala",
   "pygments_lexer": "scala",
   "version": "0.4.1"
  }
 },
 "nbformat": 4,
 "nbformat_minor": 2
}
