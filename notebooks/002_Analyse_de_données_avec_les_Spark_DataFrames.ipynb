{
 "cells": [
  {
   "cell_type": "markdown",
   "metadata": {},
   "source": [
    "# Analyse de données avec les Spark DataFrames"
   ]
  },
  {
   "cell_type": "markdown",
   "metadata": {},
   "source": [
    "Votre mission : Répondre aux questions suivantes sur le jeu de données Titanic à l'aide des DataFrames Spark.\n",
    "\n",
    "Voici quelques fonctions utiles :\n",
    "\n",
    "- `dataFrame.select('colonne1', 'colonne2')` sélectionne les colonnes `colonne1` et `colonne2` du DataFrame `dataFrame`\n",
    "- `dataFrame.orderBy('colonne')` trie les lignes du DataFrame `dataFrame` par la colonne `colonne`\n",
    "- `dataFrame.groupBy('colonne')` groupe les lignes du DataFrame `dataFrame` par la colonne `colonne`\n",
    "- `dataFrame.count()` renvoie le nombre de lignes du DataFrame `dataFrame`\n",
    "- `dataFrame.mean()` renvoie la moyenne des valeurs numériques du DataFrame `dataFrame`\n",
    "\n",
    "Grâce à la force de la programmation fonctionnelle, il est possible de combiner ces fonctions pour effectuer des analyses complexes en quelques lignes de code :\n",
    "\n",
    "- `dataFrame.groupBy('colonne').count()` compte le nombre de lignes par valeur distincte de la colonne `colonne`\n",
    "- `dataFrame.groupBy('colonne').count().orderBy('count', ascending=False).show()` compte le nombre de lignes par valeur distincte de la colonne `colonne` et trie les résultats par ordre décroissant\n",
    "- etc...\n",
    "\n",
    "Bonne chance!"
   ]
  },
  {
   "cell_type": "markdown",
   "metadata": {},
   "source": [
    "## Initialisation du notebook"
   ]
  },
  {
   "cell_type": "code",
   "execution_count": 1,
   "metadata": {},
   "outputs": [
    {
     "data": {
      "text/plain": [
       "Intitializing Scala interpreter ..."
      ]
     },
     "metadata": {},
     "output_type": "display_data"
    },
    {
     "data": {
      "text/plain": [
       "Spark Web UI available at http://23d3897efa1d:4040\n",
       "SparkContext available as 'sc' (version = 3.5.0, master = local[*], app id = local-1703629762686)\n",
       "SparkSession available as 'spark'\n"
      ]
     },
     "metadata": {},
     "output_type": "display_data"
    },
    {
     "name": "stdout",
     "output_type": "stream",
     "text": [
      "Hello, World from Scala kernel!"
     ]
    }
   ],
   "source": [
    "print(\"Hello, World from Scala kernel!\")"
   ]
  },
  {
   "cell_type": "code",
   "execution_count": 34,
   "metadata": {},
   "outputs": [
    {
     "data": {
      "text/plain": [
       "titanic: org.apache.spark.sql.DataFrame = [PassengerId: int, Survived: int ... 13 more fields]\n"
      ]
     },
     "execution_count": 34,
     "metadata": {},
     "output_type": "execute_result"
    }
   ],
   "source": [
    "val titanic = spark\n",
    "                .read\n",
    "                .format(\"csv\")\n",
    "                .option(\"header\", \"true\")\n",
    "                .option(\"inferSchema\", \"true\")\n",
    "                .load(\"../data/transformed_titanic.csv\")"
   ]
  },
  {
   "cell_type": "code",
   "execution_count": 65,
   "metadata": {},
   "outputs": [
    {
     "name": "stdout",
     "output_type": "stream",
     "text": [
      "root\n",
      " |-- PassengerId: integer (nullable = true)\n",
      " |-- Survived: integer (nullable = true)\n",
      " |-- Pclass: integer (nullable = true)\n",
      " |-- Name: string (nullable = true)\n",
      " |-- Sex: string (nullable = true)\n",
      " |-- Age: double (nullable = true)\n",
      " |-- SibSp: integer (nullable = true)\n",
      " |-- Parch: integer (nullable = true)\n",
      " |-- Ticket: string (nullable = true)\n",
      " |-- Fare: double (nullable = true)\n",
      " |-- Cabin: string (nullable = true)\n",
      " |-- Embarked: string (nullable = true)\n",
      " |-- FamilySize: integer (nullable = true)\n",
      " |-- Title: string (nullable = true)\n",
      " |-- AgeCategory: string (nullable = true)\n",
      "\n"
     ]
    }
   ],
   "source": [
    "titanic.printSchema()"
   ]
  },
  {
   "cell_type": "markdown",
   "metadata": {},
   "source": [
    "## Question 1 : Quel est le nombre de passagers sur le Titanic ?"
   ]
  },
  {
   "cell_type": "code",
   "execution_count": 22,
   "metadata": {},
   "outputs": [
    {
     "name": "stdout",
     "output_type": "stream",
     "text": [
      "Le nombre de passagers est de : 889"
     ]
    }
   ],
   "source": [
    "print(titanic.count() + \"passagers\")"
   ]
  },
  {
   "cell_type": "markdown",
   "metadata": {},
   "source": [
    "## Question 2 : Quels sont les 5 passagers du Titanic les plus âgés ?"
   ]
  },
  {
   "cell_type": "code",
   "execution_count": 38,
   "metadata": {},
   "outputs": [
    {
     "name": "stdout",
     "output_type": "stream",
     "text": [
      "Les 5 passagers du Titanic les plus âgés sont :\n",
      "+--------------------+----+\n",
      "|                Name| Age|\n",
      "+--------------------+----+\n",
      "|Barkworth, Mr. Al...|80.0|\n",
      "| Svensson, Mr. Johan|74.0|\n",
      "|Goldschmidt, Mr. ...|71.0|\n",
      "|Artagaveytia, Mr....|71.0|\n",
      "|Connors, Mr. Patrick|70.5|\n",
      "+--------------------+----+\n",
      "only showing top 5 rows\n",
      "\n"
     ]
    }
   ],
   "source": [
    "titanic.select(\"Name\", \"Age\").orderBy($\"Age\".desc).show(5)"
   ]
  },
  {
   "cell_type": "markdown",
   "metadata": {},
   "source": [
    "## Question 3 : Quels sont les 5 passagers du Titanic qui ont payé le moins cher leur ticket ?"
   ]
  },
  {
   "cell_type": "code",
   "execution_count": 40,
   "metadata": {},
   "outputs": [
    {
     "name": "stdout",
     "output_type": "stream",
     "text": [
      "+--------------------+----+\n",
      "|                Name|Fare|\n",
      "+--------------------+----+\n",
      "|Reuchlin, Jonkhee...| 0.0|\n",
      "|Watson, Mr. Ennis...| 0.0|\n",
      "|Frost, Mr. Anthon...| 0.0|\n",
      "|Andrews, Mr. Thom...| 0.0|\n",
      "|Cunningham, Mr. A...| 0.0|\n",
      "+--------------------+----+\n",
      "only showing top 5 rows\n",
      "\n"
     ]
    }
   ],
   "source": [
    "titanic.select(\"Name\", \"Fare\").orderBy(\"Fare\").show(5)"
   ]
  },
  {
   "cell_type": "markdown",
   "metadata": {},
   "source": [
    "## Question 4 : Quel est l'âge moyen des passagers du Titanic ?\n"
   ]
  },
  {
   "cell_type": "code",
   "execution_count": 57,
   "metadata": {},
   "outputs": [
    {
     "name": "stdout",
     "output_type": "stream",
     "text": [
      "+-----------------+\n",
      "|         avg(Age)|\n",
      "+-----------------+\n",
      "|29.69589060308555|\n",
      "+-----------------+\n",
      "\n"
     ]
    }
   ],
   "source": [
    "titanic.select(avg(\"Age\")).show()"
   ]
  },
  {
   "cell_type": "markdown",
   "metadata": {},
   "source": [
    "## Question 5 :  Quel est le prix que 50% des passagers ont payé pour accéder au Titanic ?\n"
   ]
  },
  {
   "cell_type": "code",
   "execution_count": 75,
   "metadata": {},
   "outputs": [
    {
     "name": "stdout",
     "output_type": "stream",
     "text": [
      "+-----------+\n",
      "|median(Age)|\n",
      "+-----------+\n",
      "|       28.0|\n",
      "+-----------+\n",
      "\n"
     ]
    }
   ],
   "source": [
    "titanic.select(median($\"Age\")).show()"
   ]
  },
  {
   "cell_type": "markdown",
   "metadata": {},
   "source": [
    "## Question 6 : Combien de passagers par classe ont survécu ?"
   ]
  },
  {
   "cell_type": "code",
   "execution_count": 85,
   "metadata": {
    "scrolled": true
   },
   "outputs": [
    {
     "name": "stdout",
     "output_type": "stream",
     "text": [
      "+------+-----+\n",
      "|Pclass|count|\n",
      "+------+-----+\n",
      "|     1|  216|\n",
      "|     3|  489|\n",
      "|     2|  184|\n",
      "+------+-----+\n",
      "\n"
     ]
    }
   ],
   "source": [
    "titanic.groupBy(\"Pclass\").count().show()"
   ]
  },
  {
   "cell_type": "markdown",
   "metadata": {},
   "source": [
    "## Question 7 : Quelle est la somme totale des tarifs payés par classe ?"
   ]
  },
  {
   "cell_type": "code",
   "execution_count": 86,
   "metadata": {},
   "outputs": [
    {
     "name": "stdout",
     "output_type": "stream",
     "text": [
      "+------+------------------+\n",
      "|Pclass|         sum(Fare)|\n",
      "+------+------------------+\n",
      "|     1|18177.412499999988|\n",
      "|     3|6691.0868000000055|\n",
      "|     2|3801.8417000000004|\n",
      "+------+------------------+\n",
      "\n"
     ]
    }
   ],
   "source": [
    "titanic.groupBy(\"Pclass\").sum(\"Fare\").show()"
   ]
  },
  {
   "cell_type": "markdown",
   "metadata": {},
   "source": [
    "## Question 8 : Quel est le nombre de survivants sur l'ensemble du Titanic ?"
   ]
  },
  {
   "cell_type": "code",
   "execution_count": 74,
   "metadata": {
    "scrolled": true
   },
   "outputs": [
    {
     "name": "stdout",
     "output_type": "stream",
     "text": [
      "+--------+-----+\n",
      "|Survived|count|\n",
      "+--------+-----+\n",
      "|       1|  341|\n",
      "+--------+-----+\n",
      "\n"
     ]
    }
   ],
   "source": [
    "titanic.filter(\"Survived == 1\").groupBy(\"Survived\").count().show()"
   ]
  },
  {
   "cell_type": "markdown",
   "metadata": {},
   "source": [
    "## Question 9 : Quel est le pourcentage de passagers qui ont embarqué à chaque port ?"
   ]
  },
  {
   "cell_type": "code",
   "execution_count": 83,
   "metadata": {
    "scrolled": true
   },
   "outputs": [
    {
     "name": "stdout",
     "output_type": "stream",
     "text": [
      "+--------+-------------------------------+\n",
      "|Embarked|((count(Embarked) / 889) * 100)|\n",
      "+--------+-------------------------------+\n",
      "|       Q|              8.661417322834646|\n",
      "|    NULL|                            0.0|\n",
      "|       C|             18.785151856017997|\n",
      "|       S|              72.32845894263217|\n",
      "+--------+-------------------------------+\n",
      "\n"
     ]
    }
   ],
   "source": [
    "titanic.groupBy(\"Embarked\").agg(count(\"Embarked\") / titanic.count() * 100).show()"
   ]
  },
  {
   "cell_type": "markdown",
   "metadata": {},
   "source": [
    "## Question 10 : Quel est le pourcentage de passagers parmi les femmes ayant survécu ?"
   ]
  },
  {
   "cell_type": "code",
   "execution_count": 96,
   "metadata": {},
   "outputs": [
    {
     "name": "stdout",
     "output_type": "stream",
     "text": [
      "+------+-------------------------------+\n",
      "|   Sex|((count(Survived) / 889) * 100)|\n",
      "+------+-------------------------------+\n",
      "|female|              35.32058492688414|\n",
      "+------+-------------------------------+\n",
      "\n"
     ]
    }
   ],
   "source": [
    "titanic.groupBy(\"Sex\").agg(count(\"Survived\") / titanic.count() * 100).filter(\"Sex == 'female'\").show()"
   ]
  }
 ],
 "metadata": {
  "kernelspec": {
   "display_name": "spylon-kernel",
   "language": "scala",
   "name": "spylon-kernel"
  },
  "language_info": {
   "codemirror_mode": "text/x-scala",
   "file_extension": ".scala",
   "help_links": [
    {
     "text": "MetaKernel Magics",
     "url": "https://metakernel.readthedocs.io/en/latest/source/README.html"
    }
   ],
   "mimetype": "text/x-scala",
   "name": "scala",
   "pygments_lexer": "scala",
   "version": "0.4.1"
  }
 },
 "nbformat": 4,
 "nbformat_minor": 2
}
