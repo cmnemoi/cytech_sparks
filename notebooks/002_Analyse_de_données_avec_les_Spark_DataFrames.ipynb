{
 "cells": [
  {
   "cell_type": "markdown",
   "metadata": {},
   "source": [
    "# Analyse de données avec les Spark DataFrames"
   ]
  },
  {
   "cell_type": "markdown",
   "metadata": {},
   "source": [
    "Votre mission : Répondre aux questions suivantes sur le jeu de données Titanic à l'aide des DataFrames Spark.\n",
    "\n",
    "Voici quelques fonctions utiles :\n",
    "\n",
    "- `dataFrame.select('colonne1', 'colonne2')` sélectionne les colonnes `colonne1` et `colonne2` du DataFrame `dataFrame`\n",
    "- `dataFrame.orderBy('colonne')` trie les lignes du DataFrame `dataFrame` par la colonne `colonne`\n",
    "- `dataFrame.groupBy('colonne')` groupe les lignes du DataFrame `dataFrame` par la colonne `colonne`\n",
    "- `dataFrame.count()` renvoie le nombre de lignes du DataFrame `dataFrame`\n",
    "- `dataFrame.mean()` renvoie la moyenne des valeurs numériques du DataFrame `dataFrame`\n",
    "\n",
    "Grâce à la force de la programmation fonctionnelle, il est possible de combiner ces fonctions pour effectuer des analyses complexes en quelques lignes de code :\n",
    "\n",
    "- `dataFrame.groupBy('colonne').count()` compte le nombre de lignes par valeur distincte de la colonne `colonne`\n",
    "- `dataFrame.groupBy('colonne').count().orderBy('count', ascending=False).show()` compte le nombre de lignes par valeur distincte de la colonne `colonne` et trie les résultats par ordre décroissant\n",
    "- etc...\n",
    "\n",
    "Bonne chance!"
   ]
  },
  {
   "cell_type": "code",
   "execution_count": null,
   "metadata": {
    "vscode": {
     "languageId": "scala"
    }
   },
   "outputs": [],
   "source": [
    "var titanic = "
   ]
  },
  {
   "cell_type": "markdown",
   "metadata": {},
   "source": [
    "## Question 1 : Quel est le nombre de passagers sur le Titanic ?"
   ]
  },
  {
   "cell_type": "code",
   "execution_count": null,
   "metadata": {
    "vscode": {
     "languageId": "scala"
    }
   },
   "outputs": [],
   "source": []
  },
  {
   "cell_type": "markdown",
   "metadata": {},
   "source": [
    "## Question 2 : Quels sont les 5 passagers du Titanic les plus âgés ?"
   ]
  },
  {
   "cell_type": "code",
   "execution_count": null,
   "metadata": {
    "vscode": {
     "languageId": "scala"
    }
   },
   "outputs": [],
   "source": []
  },
  {
   "cell_type": "markdown",
   "metadata": {},
   "source": [
    "## Question 3 : Quels sont les 5 passagers du Titanic les plus jeunes ?"
   ]
  },
  {
   "cell_type": "code",
   "execution_count": null,
   "metadata": {
    "vscode": {
     "languageId": "scala"
    }
   },
   "outputs": [],
   "source": []
  },
  {
   "cell_type": "markdown",
   "metadata": {},
   "source": [
    "## Question 4 : Quel est l'âge moyen des passagers du Titanic ?\n"
   ]
  },
  {
   "cell_type": "code",
   "execution_count": null,
   "metadata": {
    "vscode": {
     "languageId": "scala"
    }
   },
   "outputs": [],
   "source": []
  },
  {
   "cell_type": "markdown",
   "metadata": {},
   "source": [
    "## Question 5 :  Quelle est la moyenne des tarifs payés par les passagers du Titanic ?\n"
   ]
  },
  {
   "cell_type": "code",
   "execution_count": null,
   "metadata": {
    "vscode": {
     "languageId": "scala"
    }
   },
   "outputs": [],
   "source": []
  },
  {
   "cell_type": "markdown",
   "metadata": {},
   "source": [
    "## Question 6 : Quel est le pourcentage de passagers qui ont embarqué à chaque port ?"
   ]
  },
  {
   "cell_type": "code",
   "execution_count": null,
   "metadata": {
    "vscode": {
     "languageId": "scala"
    }
   },
   "outputs": [],
   "source": []
  },
  {
   "cell_type": "markdown",
   "metadata": {},
   "source": [
    "## Question 7 : Quel est le pourcentage de passagers survivants sur l'ensemble du Titanic ?"
   ]
  },
  {
   "cell_type": "code",
   "execution_count": null,
   "metadata": {
    "vscode": {
     "languageId": "scala"
    }
   },
   "outputs": [],
   "source": []
  },
  {
   "cell_type": "markdown",
   "metadata": {},
   "source": [
    "## Question 8 : Combien de passagers par classe ont survécu ?"
   ]
  },
  {
   "cell_type": "code",
   "execution_count": null,
   "metadata": {
    "vscode": {
     "languageId": "scala"
    }
   },
   "outputs": [],
   "source": []
  },
  {
   "cell_type": "markdown",
   "metadata": {},
   "source": [
    "## Question 9 : Quelle est la somme totale des tarifs payés par classe ?\n"
   ]
  },
  {
   "cell_type": "code",
   "execution_count": null,
   "metadata": {
    "vscode": {
     "languageId": "scala"
    }
   },
   "outputs": [],
   "source": []
  },
  {
   "cell_type": "markdown",
   "metadata": {},
   "source": [
    "## Question 10 : Combien de passagers ont embarqué à chaque port et sont classés par ordre décroissant du nombre de passagers ?"
   ]
  },
  {
   "cell_type": "code",
   "execution_count": null,
   "metadata": {
    "vscode": {
     "languageId": "scala"
    }
   },
   "outputs": [],
   "source": []
  }
 ],
 "metadata": {
  "language_info": {
   "name": "python"
  }
 },
 "nbformat": 4,
 "nbformat_minor": 2
}
