{
 "cells": [
  {
   "cell_type": "code",
   "execution_count": 1,
   "metadata": {
    "vscode": {
     "languageId": "python"
    }
   },
   "outputs": [
    {
     "data": {
      "text/plain": [
       "Intitializing Scala interpreter ..."
      ]
     },
     "metadata": {},
     "output_type": "display_data"
    },
    {
     "data": {
      "text/plain": [
       "Spark Web UI available at http://pop-os.home:4040\n",
       "SparkContext available as 'sc' (version = 3.5.0, master = local[*], app id = local-1695499943375)\n",
       "SparkSession available as 'spark'\n"
      ]
     },
     "metadata": {},
     "output_type": "display_data"
    },
    {
     "name": "stdout",
     "output_type": "stream",
     "text": [
      "Hello, World from Scala kernel!"
     ]
    }
   ],
   "source": [
    "// On vérifie que tout fonctionne\n",
    "print(\"Hello, World from Scala kernel!\")"
   ]
  },
  {
   "cell_type": "markdown",
   "metadata": {},
   "source": [
    "Les fonctions `Spark` sont accessibles via l'objet `spark`"
   ]
  },
  {
   "cell_type": "code",
   "execution_count": 2,
   "metadata": {},
   "outputs": [
    {
     "data": {
      "text/plain": [
       "import org.apache.spark.sql.types._\n"
      ]
     },
     "execution_count": 2,
     "metadata": {},
     "output_type": "execute_result"
    }
   ],
   "source": [
    "// Import de libraries\n",
    "import org.apache.spark.sql.types._"
   ]
  },
  {
   "cell_type": "markdown",
   "metadata": {},
   "source": [
    "# Quelques manipulations sur un jeu de données"
   ]
  },
  {
   "cell_type": "code",
   "execution_count": 3,
   "metadata": {},
   "outputs": [
    {
     "data": {
      "text/plain": [
       "rawData: org.apache.spark.sql.DataFrame = [PAYS: string, TNAT: string ... 6 more fields]\n"
      ]
     },
     "execution_count": 3,
     "metadata": {},
     "output_type": "execute_result"
    }
   ],
   "source": [
    "// on lit le jeu de données\n",
    "var rawData = spark.read.option(\"header\",\"true\").csv(\"../data/Esperancevie.csv\")"
   ]
  },
  {
   "cell_type": "code",
   "execution_count": 4,
   "metadata": {},
   "outputs": [
    {
     "name": "stdout",
     "output_type": "stream",
     "text": [
      "root\n",
      " |-- PAYS: string (nullable = true)\n",
      " |-- TNAT: string (nullable = true)\n",
      " |-- TMORT: string (nullable = true)\n",
      " |-- EV: string (nullable = true)\n",
      " |-- T65: string (nullable = true)\n",
      " |-- NBENF: string (nullable = true)\n",
      " |-- TCR: string (nullable = true)\n",
      " |-- CONT: string (nullable = true)\n",
      "\n"
     ]
    }
   ],
   "source": [
    "// on affiche le schéma\n",
    "rawData.printSchema()"
   ]
  },
  {
   "cell_type": "code",
   "execution_count": 5,
   "metadata": {},
   "outputs": [
    {
     "data": {
      "text/plain": [
       "dataset: org.apache.spark.sql.DataFrame = [PAYS: string, TNAT: double ... 6 more fields]\n"
      ]
     },
     "execution_count": 5,
     "metadata": {},
     "output_type": "execute_result"
    }
   ],
   "source": [
    "// on convertit toutes les valeurs numériques en type décimal\n",
    "val dataset = rawData.select(rawData.columns.map {\n",
    "    case column@\"CONT\" => col(column).cast(\"String\").as(column)\n",
    "    case column@\"PAYS\" => col(column).cast(\"String\").as(column)\n",
    "    case column => col(column).cast(\"Double\").as(column)\n",
    "}:_*)"
   ]
  },
  {
   "cell_type": "code",
   "execution_count": 6,
   "metadata": {},
   "outputs": [
    {
     "name": "stdout",
     "output_type": "stream",
     "text": [
      "+--------------+-----+-----+-----+-----------+-----+-----+-------+\n",
      "|          PAYS| TNAT|TMORT|   EV|        T65|NBENF|  TCR|   CONT|\n",
      "+--------------+-----+-----+-----+-----------+-----+-----+-------+\n",
      "|   Afghanistan|45.49| 18.6|44.97|2.254847259| 6.35| 3.33|   ASIE|\n",
      "|   AfriquedSud|21.22|15.24|52.28|4.737313403| 2.45| 0.57|AFRIQUE|\n",
      "|       Albanie|15.02| 6.52|77.02|9.907496954| 1.85| 0.51| EUROPE|\n",
      "|       Algerie|20.48| 4.91|73.13|4.690465595|  2.3| 1.48|AFRIQUE|\n",
      "|     Allemagne| 7.95|10.77|80.33|20.67003515| 1.33|-0.16| EUROPE|\n",
      "|        Angola|41.38|15.72|48.55| 2.48342962| 5.44| 2.68|AFRIQUE|\n",
      "|    AntillesNL|12.54| 7.55|76.65|10.73842056| 1.93| 0.87|AMERSUD|\n",
      "|Arabiesaoudite|22.39| 3.62|73.51|3.019762787|  2.9| 1.99|   ASIE|\n",
      "|     Argentine|16.87| 7.73|75.87|10.76586902| 2.19| 0.93|AMERSUD|\n",
      "|       Arménie|15.47| 8.92|74.44|10.89328063| 1.77|  0.3|   ASIE|\n",
      "|         Aruba|11.33|  7.7|75.21|9.989815758| 1.74| 0.49|AMERSUD|\n",
      "|     Australie|12.56| 6.99|81.99|14.20717201| 1.85| 1.01|OCEANIE|\n",
      "|      Autriche| 9.01|  9.4|80.55|17.82169975|  1.4| 0.22| EUROPE|\n",
      "|    Azerbaijan|19.08| 6.88|71.08|6.473456151| 2.14| 1.12|   ASIE|\n",
      "|       Bahamas|16.17| 5.91|74.72|7.213930348| 1.97| 1.14|AMERSUD|\n",
      "|       Bahrein|17.18| 2.58|76.17|2.288118078| 2.16| 1.85|   ASIE|\n",
      "|    Bangladesh|20.23| 6.37|67.29|4.032823978| 2.22| 1.31|   ASIE|\n",
      "|       Barbade|11.07|  7.6|77.92|10.65624757| 1.56| 0.26|AMERSUD|\n",
      "|      Belgique|11.23| 9.63|80.52|17.60135921|  1.8| 0.38| EUROPE|\n",
      "|        Belize|23.49| 3.53| 77.1|4.117831401| 2.72| 1.94|AMERSUD|\n",
      "+--------------+-----+-----+-----+-----------+-----+-----+-------+\n",
      "only showing top 20 rows\n",
      "\n"
     ]
    }
   ],
   "source": [
    "// on l'affiche\n",
    "dataset.show()"
   ]
  },
  {
   "cell_type": "code",
   "execution_count": 7,
   "metadata": {},
   "outputs": [
    {
     "name": "stdout",
     "output_type": "stream",
     "text": [
      "+-----------+-----+-----+-----+-----------+-----+----+-------+\n",
      "|       PAYS| TNAT|TMORT|   EV|        T65|NBENF| TCR|   CONT|\n",
      "+-----------+-----+-----+-----+-----------+-----+----+-------+\n",
      "|AfriquedSud|21.22|15.24|52.28|4.737313403| 2.45|0.57|AFRIQUE|\n",
      "|    Algerie|20.48| 4.91|73.13|4.690465595|  2.3|1.48|AFRIQUE|\n",
      "|     Angola|41.38|15.72|48.55| 2.48342962| 5.44|2.68|AFRIQUE|\n",
      "|   Botswana|23.98|11.75|55.69|3.934022182| 2.74|1.32|AFRIQUE|\n",
      "|BurkinaFaso|45.25|12.23|54.02|1.990500196| 5.69|3.19|AFRIQUE|\n",
      "|    Burundi|33.78|13.23|51.78|2.813930038|  4.2|2.18|AFRIQUE|\n",
      "|      Benin| 38.1| 8.51|62.72|3.284590019| 5.22|2.97|AFRIQUE|\n",
      "|   Cameroun|35.26|13.57| 52.1|3.564221983| 4.36|2.16|AFRIQUE|\n",
      "|    CapVert|23.12|  4.8| 72.2| 3.99145513| 2.56|1.36|AFRIQUE|\n",
      "|    Comores|30.64| 6.19|66.57|3.070957516| 3.73|2.16|AFRIQUE|\n",
      "|      Congo|32.82| 12.5|54.14|3.798028377| 4.07|2.27|AFRIQUE|\n",
      "|   CeIvoire|33.51|10.12|58.86|3.963892965| 4.33|2.33|AFRIQUE|\n",
      "|   Djibouti|27.12| 10.6|56.53| 3.39210597| 3.61|1.66|AFRIQUE|\n",
      "|     Egypte| 23.8| 5.78|70.76|4.726522188| 2.73|1.72|AFRIQUE|\n",
      "|   Erythree|34.88| 7.86|60.83|2.520405451| 4.32|2.92|AFRIQUE|\n",
      "|   Ethiopie|36.65|11.06|56.56|3.242646983| 4.98|2.53|AFRIQUE|\n",
      "|      Gabon|26.22| 9.14|61.78|4.342875838| 3.11|1.78|AFRIQUE|\n",
      "|     Gambie| 35.3|10.64|56.92|2.882854805| 4.79|2.58|AFRIQUE|\n",
      "|      Ghana|31.42|10.75|57.42|3.720972365|  4.1|2.05|AFRIQUE|\n",
      "|     Guinee|38.17|10.11|59.36|3.320471334| 5.15|2.69|AFRIQUE|\n",
      "+-----------+-----+-----+-----+-----------+-----+----+-------+\n",
      "only showing top 20 rows\n",
      "\n"
     ]
    }
   ],
   "source": [
    "// Afficher uniquement les pays africains\n",
    "dataset.filter($\"CONT\" === \"AFRIQUE\").show()"
   ]
  },
  {
   "cell_type": "code",
   "execution_count": 8,
   "metadata": {},
   "outputs": [
    {
     "name": "stdout",
     "output_type": "stream",
     "text": [
      "+-------+-----------------+\n",
      "|   CONT|          avg(EV)|\n",
      "+-------+-----------------+\n",
      "|AMERSUD|74.51594594594593|\n",
      "|   ASIE|           71.722|\n",
      "| EUROPE|          77.2335|\n",
      "|AMERNOR|80.46000000000001|\n",
      "|AFRIQUE|58.07127272727273|\n",
      "|OCEANIE|72.84249999999999|\n",
      "+-------+-----------------+\n",
      "\n"
     ]
    }
   ],
   "source": [
    "// Afficher la moyenne d'espérance de vie par continent\n",
    "dataset.groupBy(\"CONT\").mean(\"EV\").show()"
   ]
  }
 ],
 "metadata": {
  "kernelspec": {
   "display_name": "spylon-kernel",
   "language": "scala",
   "name": "spylon-kernel"
  },
  "language_info": {
   "codemirror_mode": "text/x-scala",
   "file_extension": ".scala",
   "help_links": [
    {
     "text": "MetaKernel Magics",
     "url": "https://metakernel.readthedocs.io/en/latest/source/README.html"
    }
   ],
   "mimetype": "text/x-scala",
   "name": "scala",
   "pygments_lexer": "scala",
   "version": "0.4.1"
  }
 },
 "nbformat": 4,
 "nbformat_minor": 4
}
